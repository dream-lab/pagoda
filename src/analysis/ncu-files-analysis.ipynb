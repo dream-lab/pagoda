{
 "cells": [
  {
   "cell_type": "code",
   "execution_count": null,
   "metadata": {},
   "outputs": [],
   "source": [
    "import pandas as pd"
   ]
  },
  {
   "cell_type": "code",
   "execution_count": null,
   "metadata": {},
   "outputs": [],
   "source": [
    "df = pd.read_csv(\"mobnet_bottleneck_layer_bs_32_epoch_20.ncu-rep.csv\")"
   ]
  },
  {
   "cell_type": "code",
   "execution_count": null,
   "metadata": {},
   "outputs": [],
   "source": [
    "df.shape"
   ]
  },
  {
   "cell_type": "code",
   "execution_count": null,
   "metadata": {},
   "outputs": [],
   "source": [
    "df.columns"
   ]
  },
  {
   "cell_type": "code",
   "execution_count": null,
   "metadata": {},
   "outputs": [],
   "source": [
    "df['Demangled Name'].unique().tolist()"
   ]
  },
  {
   "cell_type": "code",
   "execution_count": null,
   "metadata": {},
   "outputs": [],
   "source": [
    "import matplotlib.pyplot as plt\n",
    "\n",
    "plt.figure(figsize=(10,10))\n",
    "ax = df['Demangled Name'].value_counts().plot(kind='bar')\n",
    "plt.xlabel('Kernel Names')\n",
    "plt.ylabel('Counts')\n",
    "plt.yscale('log', base=10)\n",
    "plt.title('Histogram of Kernel Names')\n",
    "\n",
    "# Annotate the value on top of each bar\n",
    "for p in ax.patches:\n",
    "    ax.annotate(str(p.get_height()), (p.get_x() * 1.005, p.get_height() * 1.05))\n",
    "\n",
    "plt.show()"
   ]
  },
  {
   "cell_type": "code",
   "execution_count": null,
   "metadata": {},
   "outputs": [],
   "source": [
    "# Initialize an empty dictionary to store the occurrences\n",
    "occurrences = {}\n",
    "\n",
    "# Iterate over each unique kernel name in the dataframe\n",
    "for kernel in df['Demangled Name'].unique():\n",
    "        # Get the indices of occurrences in the original dataframe\n",
    "        indices = df[df['Demangled Name'] == kernel].index\n",
    "        occurrences[kernel] = indices.tolist()\n",
    "        print(f\"{kernel}: {indices.tolist()}\")"
   ]
  },
  {
   "cell_type": "code",
   "execution_count": null,
   "metadata": {},
   "outputs": [],
   "source": [
    "df.loc[:15, 'Demangled Name']"
   ]
  },
  {
   "cell_type": "code",
   "execution_count": null,
   "metadata": {},
   "outputs": [],
   "source": [
    "df.loc[16:31, 'Demangled Name']"
   ]
  },
  {
   "cell_type": "code",
   "execution_count": null,
   "metadata": {},
   "outputs": [],
   "source": [
    "# Get the value counts of 'Demangled Name'\n",
    "value_counts = df['Demangled Name'].value_counts()\n",
    "\n",
    "# Filter the values that occur exactly 10 times\n",
    "filtered_values = value_counts[value_counts == 20].index\n",
    "\n",
    "# Print the filtered values\n",
    "filtered_values, len(filtered_values)"
   ]
  },
  {
   "cell_type": "code",
   "execution_count": null,
   "metadata": {},
   "outputs": [],
   "source": [
    "value_counts.index"
   ]
  },
  {
   "cell_type": "code",
   "execution_count": null,
   "metadata": {},
   "outputs": [],
   "source": [
    "# Iterate over each value in filtered_values\n",
    "# occurrences = {}\n",
    "# for value in filtered_values:\n",
    "#     # Get the indices of occurrences in the original dataframe\n",
    "#     indices = df[df['Demangled Name'] == value].index\n",
    "#     occurrences[value] = indices.tolist()\n",
    "#     print(f\"Indices for {value}: {indices.tolist()}\")\n",
    "\n",
    "# occurrences = {}\n",
    "# for value in value_counts.index:\n",
    "#     indices = df[df['Demangled Name'] == value].index\n",
    "#     occurrences[value] = indices.tolist()\n",
    "#     print(f\"Indices for {value}: {indices.tolist()}\")"
   ]
  },
  {
   "cell_type": "code",
   "execution_count": null,
   "metadata": {},
   "outputs": [],
   "source": [
    "df.loc[0, 'Demangled Name']"
   ]
  },
  {
   "cell_type": "code",
   "execution_count": null,
   "metadata": {},
   "outputs": [],
   "source": [
    "col = \"\"\n",
    "for i in df.columns:\n",
    "    if \"gpu__time_duration.sum\" in i:\n",
    "        col = i\n",
    "col"
   ]
  },
  {
   "cell_type": "code",
   "execution_count": null,
   "metadata": {},
   "outputs": [],
   "source": [
    "def _ncu_get_flops_double(kernel_data: dict, col: str) -> float:\n",
    "    flops = (kernel_data['smsp__sass_thread_inst_executed_op_dadd_pred_on.sum.per_cycle_elapsed [inst/cycle]'] \\\n",
    "                + kernel_data['smsp__sass_thread_inst_executed_op_dmul_pred_on.sum.per_cycle_elapsed [inst/cycle]'] \\\n",
    "                + kernel_data['derived__smsp__sass_thread_inst_executed_op_dfma_pred_on_x2 [inst]']) \\\n",
    "            * kernel_data['smsp__cycles_elapsed.avg.per_second [Ghz]'] \\\n",
    "            * kernel_data[col] \n",
    "\n",
    "    return flops\n",
    "\n",
    "\n",
    "def _ncu_get_flops_single(kernel_data: dict, col: str, breakdown=None) -> float:\n",
    "    flops = (kernel_data['smsp__sass_thread_inst_executed_op_fadd_pred_on.sum.per_cycle_elapsed [inst/cycle]'] \\\n",
    "                + kernel_data['smsp__sass_thread_inst_executed_op_fmul_pred_on.sum.per_cycle_elapsed [inst/cycle]'] \\\n",
    "                + kernel_data['derived__smsp__sass_thread_inst_executed_op_ffma_pred_on_x2 [inst]']) \\\n",
    "            * kernel_data['smsp__cycles_elapsed.avg.per_second [Ghz]'] \\\n",
    "            * kernel_data[col]\n",
    "    \n",
    "    if breakdown:\n",
    "        return flops, kernel_data['smsp__sass_thread_inst_executed_op_fadd_pred_on.sum.per_cycle_elapsed [inst/cycle]'], kernel_data['smsp__sass_thread_inst_executed_op_fmul_pred_on.sum.per_cycle_elapsed [inst/cycle]'], kernel_data['derived__smsp__sass_thread_inst_executed_op_ffma_pred_on_x2 [inst]']\n",
    "    \n",
    "    return flops\n",
    "\n",
    "\n",
    "def _ncu_get_flops_half(kernel_data: dict, col: str) -> float:\n",
    "    flops = (kernel_data['smsp__sass_thread_inst_executed_op_hadd_pred_on.sum.per_cycle_elapsed [inst/cycle]'] \\\n",
    "                + kernel_data['smsp__sass_thread_inst_executed_op_hmul_pred_on.sum.per_cycle_elapsed [inst/cycle]'] \\\n",
    "                + kernel_data['derived__smsp__sass_thread_inst_executed_op_hfma_pred_on_x2 [inst]']) \\\n",
    "            * kernel_data['smsp__cycles_elapsed.avg.per_second [Ghz]'] \\\n",
    "            * kernel_data[col]\n",
    "\n",
    "    return flops\n",
    "\n",
    "\n",
    "def _have_strings(name: str, *strings):\n",
    "    return any(s in name for s in strings)\n",
    "\n",
    "\n",
    "def _ncu_get_flops_tensor(kernel_data: dict, col: str, breakdown=None) -> float:\n",
    "    kernel_name = kernel_data['Function Name']\n",
    "\n",
    "    factor = 2048   # default (volta), 8x8x4 x 2 OP/FMA\n",
    "\n",
    "    # ampere (A100 etc) fp16\n",
    "    if _have_strings(kernel_name, '16816', 'tensor16x8x16'):\n",
    "        factor = 4096\n",
    "    elif _have_strings(kernel_name, '1688', 'tensor16x8x8'):\n",
    "        factor = 2048\n",
    "\n",
    "    # ampere (A100 etc) int8\n",
    "    elif _have_strings(kernel_name, 'i8i8_i8i32_f32') \\\n",
    "        and _have_strings(kernel_name, 'tensor16x8x32'):\n",
    "        factor = 8192\n",
    "    elif _have_strings(kernel_name, 'i8i8_i32_f32'):\n",
    "        factor = 8192\n",
    "    elif _have_strings(kernel_name, 'i8i8_i8i32_f32') \\\n",
    "        and _have_strings(kernel_name, 'tensor8x8x16'):\n",
    "        factor = 2048\n",
    "    elif _have_strings(kernel_name, 'imma') and _have_strings(kernel_name, 'ampere'):    # ampere_first_layer_filter3x3_imma_fwd_swish_execute_filter3x3_swish_kernel_trt\n",
    "        factor = 2048\n",
    "\n",
    "    # TODO: need to verify\n",
    "    # volta (V100 etc), HMMA.884.F16.F16 fix\n",
    "    elif (\n",
    "            (_have_strings(kernel_name, 'h884') or\n",
    "                (_have_strings(kernel_name, 'f16f16_f16f16_f16') and _have_strings(kernel_name, 'tensor8x8x4'))\n",
    "            ) and not _have_strings(kernel_name, 's884')\n",
    "        ):\n",
    "        factor = 1024\n",
    "        \n",
    "    #print(factor)\n",
    "    flops = kernel_data['smsp__inst_executed_pipe_tensor.sum.per_cycle_elapsed [inst/cycle]'] \\\n",
    "            * factor \\\n",
    "            * kernel_data['smsp__cycles_elapsed.avg.per_second [Ghz]'] \\\n",
    "            * kernel_data[col]\n",
    "    if breakdown:\n",
    "        return flops, kernel_data['smsp__inst_executed_pipe_tensor.sum.per_cycle_elapsed [inst/cycle]'], factor\n",
    "    return flops\n",
    "\n",
    "\n",
    "def ncu_get_flops(kernel_data: dict, data_width: int, col: str) -> float:\n",
    "    \"\"\"return all double/single/half/tensor FLOPs (count of FLoat OP)\"\"\"\n",
    "    double = _ncu_get_flops_double(kernel_data, col)\n",
    "    single, fadd, fmul, ffma = _ncu_get_flops_single(kernel_data, col, breakdown=True)\n",
    "    half = _ncu_get_flops_half(kernel_data, col)\n",
    "    tensor, tensor_sum, factor = _ncu_get_flops_tensor(kernel_data, col, breakdown=True)\n",
    "    \n",
    "    # if _have_strings(kernel_data['Demangled Name'], 'ampere_sgemm_128x32_tn'):\n",
    "    #     print(f\"{kernel_data['Function Name']}\")\n",
    "    #     print(f\"double: {double}\")\n",
    "    #     print(f\"single: {single}\")\n",
    "    #     print(fadd, fmul, ffma)\n",
    "    #     print(f\"half: {half}\")\n",
    "    #     print(f\"tensor: {tensor}\")\n",
    "    #     print(tensor_sum, factor)\n",
    "    \n",
    "    \"\"\"if tensor == 0:\n",
    "        print(f\"{kernel_data['Function Name']}\")\n",
    "        print(f\"single: {single}\")\n",
    "        print(fadd, fmul, ffma)\n",
    "        print(\"-\"*50)\n",
    "\n",
    "    if (single != 0) and (tensor != 0):\n",
    "        print(f\"{kernel_data['Function Name']}\")\n",
    "        print(f\"single: {single}\")\n",
    "        print(fadd, fmul, ffma)\n",
    "        print(f\"tensor: {tensor}\")\n",
    "        print(tensor_sum, factor)\n",
    "        print(\"*\"*50)\"\"\"\n",
    "        \n",
    "    all_flops = (\n",
    "        _ncu_get_flops_double(kernel_data, col),\n",
    "        _ncu_get_flops_single(kernel_data, col),\n",
    "        _ncu_get_flops_half(kernel_data, col),\n",
    "        _ncu_get_flops_tensor(kernel_data, col)\n",
    "    )\n",
    "    flops = sum(all_flops)\n",
    "    #return sum(flops)\n",
    "    \"\"\"if not flops:\n",
    "        flops = _ncu_get_flops_fallback(kernel_data, data_width)    # not good!\"\"\"\n",
    "    return flops, all_flops[-1]"
   ]
  },
  {
   "cell_type": "code",
   "execution_count": null,
   "metadata": {},
   "outputs": [],
   "source": [
    "df['FLOPs'] = df.apply(lambda row: ncu_get_flops(row, 32, col)[0], axis=1)\n",
    "kernel_flops_sum = df.groupby('Demangled Name')['FLOPs'].sum()\n",
    "print(kernel_flops_sum)\n",
    "\n",
    "# # print('=====================')\n",
    "# # df['Tensor FLOPs'] = df.apply(lambda row: ncu_get_flops(row, 32, col)[1], axis=1)\n",
    "# # kernel_tensor_flops_sum = df.groupby('Demangled Name')['Tensor FLOPs'].sum()\n",
    "# # print(kernel_tensor_flops_sum)"
   ]
  },
  {
   "cell_type": "code",
   "execution_count": null,
   "metadata": {},
   "outputs": [],
   "source": [
    "# Group by 'Demangled Name' and sum the 'FLOPs' for each group\n",
    "kernel_flops_sum = df.groupby('Demangled Name')['FLOPs'].sum()\n",
    "\n",
    "# Sort the results in descending order\n",
    "\n",
    "kernel_flops_sum_sorted = kernel_flops_sum.sort_values(ascending=False)\n",
    "\n",
    "# Print the sorted results\n",
    "kernel_flops_sum_sorted / 1e6 / 20"
   ]
  },
  {
   "cell_type": "code",
   "execution_count": null,
   "metadata": {},
   "outputs": [],
   "source": [
    "df.shape[0] / 20"
   ]
  },
  {
   "cell_type": "code",
   "execution_count": null,
   "metadata": {},
   "outputs": [],
   "source": [
    "kernel_flops_sum_sorted.sum() / 1e6 / 20"
   ]
  },
  {
   "cell_type": "code",
   "execution_count": null,
   "metadata": {},
   "outputs": [],
   "source": [
    "filtered_df = df[[\"Demangled Name\", \"dram__bytes.sum.per_second [Gbyte/s]\", col]]\n",
    "filtered_df[\"mem\"] = df[\"dram__bytes.sum.per_second [Gbyte/s]\"] * df[col]\n",
    "# Group by 'Demangled Name' and sum the 'mem' for each group\n",
    "kernel_mem_sum = filtered_df.groupby('Demangled Name')['mem'].sum() / 1e3 / 20\n",
    "\n",
    "# Sort the results in descending order\n",
    "kernel_mem_sum_sorted = kernel_mem_sum.sort_values(ascending=False)\n",
    "\n",
    "# Print the sorted results\n",
    "print(kernel_mem_sum_sorted)"
   ]
  },
  {
   "cell_type": "code",
   "execution_count": null,
   "metadata": {},
   "outputs": [],
   "source": [
    "# indices and range selected manually for now\n",
    "all_flops = 0\n",
    "for i in range(44):\n",
    "    f = ncu_get_flops(df.iloc[i], 32, col)\n",
    "    all_flops += f\n",
    "        \n",
    "print('FLOPS:', all_flops/1e6)\n",
    "print('\\n\\n')\n",
    "\n",
    "x = 1\n",
    "for j in range(19):\n",
    "    x += 43\n",
    "    all_flops = 0\n",
    "    for i in range(x, x+43):\n",
    "        f = ncu_get_flops(df.iloc[i], 32, col)\n",
    "        all_flops += f\n",
    "            \n",
    "    print('FLOPS:', all_flops/1e6)\n",
    "    print('\\n\\n')"
   ]
  },
  {
   "cell_type": "code",
   "execution_count": null,
   "metadata": {},
   "outputs": [],
   "source": [
    "fieldnames = [\n",
    "    'Demangled Name',\n",
    "    'smsp__sass_thread_inst_executed_op_fadd_pred_on.sum.per_cycle_elapsed [inst/cycle]',\n",
    "    'smsp__sass_thread_inst_executed_op_fmul_pred_on.sum.per_cycle_elapsed [inst/cycle]',\n",
    "    'derived__smsp__sass_thread_inst_executed_op_ffma_pred_on_x2 [inst]',\n",
    "    'smsp__cycles_elapsed.avg.per_second [Ghz]',\n",
    "    col\n",
    "]"
   ]
  },
  {
   "cell_type": "code",
   "execution_count": null,
   "metadata": {},
   "outputs": [],
   "source": [
    "from prettytable import PrettyTable\n",
    "\n",
    "# Initialize an empty list to store the data\n",
    "data = []\n",
    "\n",
    "# Iterate over each kernel in value_counts\n",
    "for kernel in value_counts.index:\n",
    "    kernel_flops = 0\n",
    "    for idx in occurrences[kernel]:\n",
    "        flops = ncu_get_flops(df.iloc[idx], 32, col)\n",
    "        kernel_flops += flops\n",
    "    \n",
    "    # Collect the attributes for the kernel\n",
    "    attributes = {field: df.iloc[occurrences[kernel][0]][field] for field in fieldnames}\n",
    "    attributes['FLOPs (GFLOPs)'] = kernel_flops / 1e6\n",
    "    \n",
    "    # Append the attributes to the data list\n",
    "    data.append(attributes)\n",
    "\n",
    "# Create a dataframe from the data list\n",
    "df_kernel_flops = pd.DataFrame(data)\n",
    "\n",
    "# Sort the dataframe by FLOPs in decreasing order\n",
    "df_kernel_flops = df_kernel_flops.sort_values(by='FLOPs (GFLOPs)', ascending=False)\n",
    "\n",
    "# Print the dataframe\n",
    "df_kernel_flops"
   ]
  },
  {
   "cell_type": "code",
   "execution_count": null,
   "metadata": {},
   "outputs": [],
   "source": [
    "from prettytable import PrettyTable\n",
    "\n",
    "# Create a PrettyTable object\n",
    "table = PrettyTable()\n",
    "\n",
    "# Add columns to the table\n",
    "table.field_names = df_kernel_flops.columns.tolist()\n",
    "\n",
    "# Add rows to the table\n",
    "for index, row in df_kernel_flops.iterrows():\n",
    "    table.add_row(row.tolist())\n",
    "\n",
    "# Print the table\n",
    "print(table)"
   ]
  }
 ],
 "metadata": {
  "kernelspec": {
   "display_name": "base",
   "language": "python",
   "name": "python3"
  },
  "language_info": {
   "codemirror_mode": {
    "name": "ipython",
    "version": 3
   },
   "file_extension": ".py",
   "mimetype": "text/x-python",
   "name": "python",
   "nbconvert_exporter": "python",
   "pygments_lexer": "ipython3",
   "version": "3.11.5"
  }
 },
 "nbformat": 4,
 "nbformat_minor": 2
}
